{
 "cells": [
  {
   "cell_type": "code",
   "execution_count": 9,
   "metadata": {},
   "outputs": [],
   "source": [
    "from selenium import webdriver\n",
    "from selenium.webdriver.common.by import By\n",
    "from selenium.webdriver.support.ui import WebDriverWait\n",
    "from selenium.webdriver.support import expected_conditions as EC\n",
    "import csv\n",
    "import re\n",
    "import time\n",
    "import math"
   ]
  },
  {
   "cell_type": "code",
   "execution_count": 4,
   "metadata": {},
   "outputs": [],
   "source": [
    "PAUSE_TIME = 2\n",
    "driver = webdriver.Chrome(r'C:\\Users\\Chun\\chromedriver_win32\\chromedriver.exe')\n",
    "\n",
    "# create initial urls for each clothing categories\n",
    "category_list = ['activewear','dresses','jeans','lingerie-sleepwear','tops','workwear-1']\n",
    "for category in category_list:\n",
    "    link = f'https://www.saksoff5th.com/c/women/apparel/{category}'\n",
    "    driver.get(link)\n",
    "    time.sleep(PAUSE_TIME)\n",
    "    \n",
    "    # get the total pages for the current category\n",
    "    num_item = driver.find\n",
    "    num_page = math.ceil(num_item/96)\n",
    "\n",
    "    # redirect to each page under the current category\n",
    "    for i in range(num_page):\n",
    "        page_link = f'{link}?start={96*i}&sz=24'\n",
    "        driver.get(page_link)\n",
    "        time.sleep(PAUSE_TIME)    \n",
    "    \n",
    "        #scroll down until the end of current page\n",
    "        while True:\n",
    "            last_height = driver.execute_script(\"return document.body.scrollHeight\")\n",
    "            driver.execute_script(\"window.scrollTo(0, document.body.scrollHeight);\")\n",
    "            time.sleep(PAUSE_TIME)\n",
    "            new_height = driver.execute_script(\"return document.body.scrollHeight\")\n",
    "        \n",
    "            if new_height == last_height:\n",
    "                driver.execute_script(\"window.scrollTo(0, document.body.scrollHeight);\")\n",
    "                time.sleep(PAUSE_TIME)\n",
    "                new_height = driver.execute_script(\"return document.body.scrollHeight\")\n",
    "\n",
    "                if new_height == last_height:\n",
    "                    break\n",
    "                else:\n",
    "                    last_height = new_height\n",
    "                    continue\n",
    "                \n",
    "        #get the product links on the current page  \n",
    "        item_links = driver.find_elements_by_class_name('link')\n",
    "\n",
    "        product_links = []\n",
    "        for i in range(len(item_links)):\n",
    "        item_link = item_links[i].get_attribute(\"href\")\n",
    "        product_links.append(item_link)\n",
    "        product_links = product_links[2:]\n",
    "        \n",
    "        #enter each product page for product information\n",
    "        for link in product_links:\n",
    "        driver.get(link)\n",
    "        time.sleep(PAUSE_TIME)\n",
    "        \n",
    "        ## Make csv_writer ##\n",
    "        csv_file = open('off5th.csv', 'w', encoding='utf-8', newline='')\n",
    "        writer = csv.writer(csv_file)\n",
    "\n",
    "        writer.writerow(['brand_name','product_name', 'category', \n",
    "                         'original_price', 'discount_price',\n",
    "                         'percent_off','website'])\n",
    "        \n",
    "        \n",
    "        # Collect information on the product page\n",
    "        website = 'Off5th'\n",
    "        cat = category\n",
    "        try:\n",
    "            brand_name = driver.find_element_by_class_name('product-brand-name').text\n",
    "        except:\n",
    "            brand_name = None\n",
    "            \n",
    "        try:\n",
    "            product_name = driver.find_element_by_xpath('//div/h1[@class=\"product-name h2\"]').text\n",
    "        except:\n",
    "            product_name = None\n",
    "            \n",
    "        try:\n",
    "            original_price = driver.find_element_by_xpath('//span[@class=\"formatted_price bfx-price bfx-list-price\"]').text\n",
    "            original_price = float(re.search('(\\d+\\.*\\d+)',original_price).group(1))\n",
    "        except:\n",
    "            original_price = None\n",
    "            \n",
    "        try:\n",
    "            discount_price = driver.find_element_by_xpath('//span[@class=\"formatted_sale_price formatted_price js-final-sale-price bfx-price bfx-sale-price\"]').text\n",
    "            discount_price = float(re.search('(\\d+\\.*\\d+)',discount_price).group(1))\n",
    "        except:\n",
    "            discount_price = None\n",
    "            \n",
    "        try:\n",
    "            percent_off = driver.find_element_by_xpath('//span[@class=\"off-percentage\"]').text\n",
    "            percent_off = int(re.search('(\\d+\\.*\\d+)',percent_off).group(1))\n",
    "        except:\n",
    "            percent_off = None\n",
    "        \n",
    "        #write in csv file \n",
    "        item['website'] = website\n",
    "        item['brand_name'] = brand_name\n",
    "        item['product_name'] = product_name\n",
    "        item['category'] = cat\n",
    "        item['original_price'] = original_price\n",
    "        item['discount_price'] = discount_price\n",
    "        item['percent_off'] = percent_off\n",
    "\n",
    "        writer.writerow(item.values())"
   ]
  },
  {
   "cell_type": "code",
   "execution_count": 68,
   "metadata": {},
   "outputs": [],
   "source": [
    "driver.get('https://www.saksoff5th.com/product/tibi-techy-twill-blazer-0400012490341.html?dwvar_0400012490341_color=ABYSS')\n",
    "\n",
    "# website = 'Saks'\n",
    "# product_name = \n",
    "# product_name = driver.\n",
    "# category = driver.\n",
    "original_price = driver.find_element_by_xpath('//span[@class=\"formatted_price bfx-price bfx-list-price\"]').text\n",
    "# discount_price = driver.find_element_by_xpath('//span[@class=\"formatted_sale_price formatted_price js-final-sale-price bfx-price bfx-sale-price\"]')\n",
    "# discount_percent = driver.find_element_by_xpath('//span[@class=\"off-percentage\"]')  "
   ]
  },
  {
   "cell_type": "code",
   "execution_count": 69,
   "metadata": {},
   "outputs": [
    {
     "data": {
      "text/plain": [
       "'$795'"
      ]
     },
     "execution_count": 69,
     "metadata": {},
     "output_type": "execute_result"
    }
   ],
   "source": [
    "original_price"
   ]
  },
  {
   "cell_type": "code",
   "execution_count": 62,
   "metadata": {},
   "outputs": [
    {
     "data": {
      "text/plain": [
       "'$199.99'"
      ]
     },
     "execution_count": 62,
     "metadata": {},
     "output_type": "execute_result"
    }
   ],
   "source": [
    "price"
   ]
  },
  {
   "cell_type": "code",
   "execution_count": 71,
   "metadata": {},
   "outputs": [
    {
     "data": {
      "text/plain": [
       "795.0"
      ]
     },
     "execution_count": 71,
     "metadata": {},
     "output_type": "execute_result"
    }
   ],
   "source": [
    "float(re.search('(\\d+\\.*\\d+)',original_price).group(1))"
   ]
  },
  {
   "cell_type": "code",
   "execution_count": null,
   "metadata": {},
   "outputs": [],
   "source": []
  }
 ],
 "metadata": {
  "kernelspec": {
   "display_name": "Python 3",
   "language": "python",
   "name": "python3"
  },
  "language_info": {
   "codemirror_mode": {
    "name": "ipython",
    "version": 3
   },
   "file_extension": ".py",
   "mimetype": "text/x-python",
   "name": "python",
   "nbconvert_exporter": "python",
   "pygments_lexer": "ipython3",
   "version": "3.8.3"
  }
 },
 "nbformat": 4,
 "nbformat_minor": 4
}
