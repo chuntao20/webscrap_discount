{
 "cells": [
  {
   "cell_type": "code",
   "execution_count": 1,
   "metadata": {},
   "outputs": [],
   "source": [
    "import numpy as np\n",
    "import pandas as pd\n",
    "import math"
   ]
  },
  {
   "cell_type": "code",
   "execution_count": 2,
   "metadata": {},
   "outputs": [],
   "source": [
    "off5th_raw = pd.read_csv('off5th.csv')"
   ]
  },
  {
   "cell_type": "code",
   "execution_count": 3,
   "metadata": {},
   "outputs": [
    {
     "data": {
      "text/html": [
       "<div>\n",
       "<style scoped>\n",
       "    .dataframe tbody tr th:only-of-type {\n",
       "        vertical-align: middle;\n",
       "    }\n",
       "\n",
       "    .dataframe tbody tr th {\n",
       "        vertical-align: top;\n",
       "    }\n",
       "\n",
       "    .dataframe thead th {\n",
       "        text-align: right;\n",
       "    }\n",
       "</style>\n",
       "<table border=\"1\" class=\"dataframe\">\n",
       "  <thead>\n",
       "    <tr style=\"text-align: right;\">\n",
       "      <th></th>\n",
       "      <th>website</th>\n",
       "      <th>brand_name</th>\n",
       "      <th>product_name</th>\n",
       "      <th>category</th>\n",
       "      <th>department</th>\n",
       "      <th>original_price</th>\n",
       "      <th>discount_price</th>\n",
       "      <th>discount_amount</th>\n",
       "    </tr>\n",
       "  </thead>\n",
       "  <tbody>\n",
       "    <tr>\n",
       "      <th>0</th>\n",
       "      <td>Off5th</td>\n",
       "      <td>Walter Baker</td>\n",
       "      <td>Animal-Print Long Bishop-Sleeve Midi Dress</td>\n",
       "      <td>dresses</td>\n",
       "      <td>women</td>\n",
       "      <td>1234455.44</td>\n",
       "      <td>1234455.44</td>\n",
       "      <td>69.0</td>\n",
       "    </tr>\n",
       "    <tr>\n",
       "      <th>1</th>\n",
       "      <td>Off5th</td>\n",
       "      <td>Ted Baker London</td>\n",
       "      <td>Asymmetric Midi Dress</td>\n",
       "      <td>dresses</td>\n",
       "      <td>women</td>\n",
       "      <td>1234455.44</td>\n",
       "      <td>1234455.44</td>\n",
       "      <td>49.0</td>\n",
       "    </tr>\n",
       "    <tr>\n",
       "      <th>2</th>\n",
       "      <td>Off5th</td>\n",
       "      <td>A.L.C.</td>\n",
       "      <td>Metallic-Print Crewneck Mini Dress</td>\n",
       "      <td>dresses</td>\n",
       "      <td>women</td>\n",
       "      <td>1234455.44</td>\n",
       "      <td>1234455.44</td>\n",
       "      <td>13.0</td>\n",
       "    </tr>\n",
       "    <tr>\n",
       "      <th>3</th>\n",
       "      <td>Off5th</td>\n",
       "      <td>Ted Baker London</td>\n",
       "      <td>Polka Dot-Print A-Line Dress</td>\n",
       "      <td>dresses</td>\n",
       "      <td>women</td>\n",
       "      <td>1234455.44</td>\n",
       "      <td>1234455.44</td>\n",
       "      <td>62.0</td>\n",
       "    </tr>\n",
       "    <tr>\n",
       "      <th>4</th>\n",
       "      <td>Off5th</td>\n",
       "      <td>Ted Baker London</td>\n",
       "      <td>Asymmetric Peplum Dress</td>\n",
       "      <td>dresses</td>\n",
       "      <td>women</td>\n",
       "      <td>1234455.44</td>\n",
       "      <td>1234455.44</td>\n",
       "      <td>49.0</td>\n",
       "    </tr>\n",
       "  </tbody>\n",
       "</table>\n",
       "</div>"
      ],
      "text/plain": [
       "  website        brand_name                                product_name  \\\n",
       "0  Off5th      Walter Baker  Animal-Print Long Bishop-Sleeve Midi Dress   \n",
       "1  Off5th  Ted Baker London                       Asymmetric Midi Dress   \n",
       "2  Off5th            A.L.C.          Metallic-Print Crewneck Mini Dress   \n",
       "3  Off5th  Ted Baker London                Polka Dot-Print A-Line Dress   \n",
       "4  Off5th  Ted Baker London                     Asymmetric Peplum Dress   \n",
       "\n",
       "  category department  original_price  discount_price  discount_amount  \n",
       "0  dresses      women      1234455.44      1234455.44             69.0  \n",
       "1  dresses      women      1234455.44      1234455.44             49.0  \n",
       "2  dresses      women      1234455.44      1234455.44             13.0  \n",
       "3  dresses      women      1234455.44      1234455.44             62.0  \n",
       "4  dresses      women      1234455.44      1234455.44             49.0  "
      ]
     },
     "execution_count": 3,
     "metadata": {},
     "output_type": "execute_result"
    }
   ],
   "source": [
    "off5th_raw.head()"
   ]
  },
  {
   "cell_type": "code",
   "execution_count": 4,
   "metadata": {},
   "outputs": [
    {
     "data": {
      "text/plain": [
       "dresses    1120\n",
       "Name: category, dtype: int64"
      ]
     },
     "execution_count": 4,
     "metadata": {},
     "output_type": "execute_result"
    }
   ],
   "source": [
    "off5th_raw['category'].value_counts()"
   ]
  },
  {
   "cell_type": "code",
   "execution_count": 5,
   "metadata": {},
   "outputs": [],
   "source": [
    "off5th_raw.loc[off5th_raw['category']=='dress-shirts','order'] = (range(1,np.sum(off5th_raw['category']=='dress-shirts')+1))\n",
    "off5th_raw.loc[off5th_raw['category']=='dresses','order'] = (range(1,np.sum(off5th_raw['category']=='dresses')+1))\n",
    "off5th_raw.loc[off5th_raw['category']=='casual-button-down-shirts','order'] = (range(1,np.sum(off5th_raw['category']=='casual-button-down-shirts')+1))                                                       \n",
    "off5th_raw.loc[:,'order'] = off5th_raw['order'].astype(int)"
   ]
  },
  {
   "cell_type": "code",
   "execution_count": null,
   "metadata": {},
   "outputs": [],
   "source": [
    "np.sum(off5th_raw.isnull())"
   ]
  },
  {
   "cell_type": "code",
   "execution_count": null,
   "metadata": {},
   "outputs": [],
   "source": [
    "off5th_raw.shape"
   ]
  },
  {
   "cell_type": "code",
   "execution_count": null,
   "metadata": {},
   "outputs": [],
   "source": [
    "off5th_raw.loc[off5th_raw['original_price']<off5th_raw['discount_price']]['category'].value_counts()"
   ]
  },
  {
   "cell_type": "code",
   "execution_count": null,
   "metadata": {},
   "outputs": [],
   "source": [
    "off5th_raw.loc[:,'percent_off'] = round((1-off5th_raw['discount_price']/off5th_raw['original_price'])*100,2)"
   ]
  },
  {
   "cell_type": "code",
   "execution_count": null,
   "metadata": {},
   "outputs": [],
   "source": [
    "off5th_raw.sample(30)"
   ]
  },
  {
   "cell_type": "code",
   "execution_count": null,
   "metadata": {},
   "outputs": [],
   "source": [
    "off5th_dups = off5th_raw.loc[off5th_raw.duplicated(['brand_name','product_name','original_price','discount_price'])]"
   ]
  },
  {
   "cell_type": "code",
   "execution_count": 6,
   "metadata": {},
   "outputs": [
    {
     "ename": "NameError",
     "evalue": "name 'off5th_dups' is not defined",
     "output_type": "error",
     "traceback": [
      "\u001b[1;31m---------------------------------------------------------------------------\u001b[0m",
      "\u001b[1;31mNameError\u001b[0m                                 Traceback (most recent call last)",
      "\u001b[1;32m<ipython-input-6-a5caf34587db>\u001b[0m in \u001b[0;36m<module>\u001b[1;34m\u001b[0m\n\u001b[1;32m----> 1\u001b[1;33m \u001b[0moff5th_dups\u001b[0m\u001b[1;33m[\u001b[0m\u001b[1;34m'brand_name'\u001b[0m\u001b[1;33m]\u001b[0m\u001b[1;33m.\u001b[0m\u001b[0mvalue_counts\u001b[0m\u001b[1;33m(\u001b[0m\u001b[1;33m)\u001b[0m\u001b[1;33m\u001b[0m\u001b[1;33m\u001b[0m\u001b[0m\n\u001b[0m",
      "\u001b[1;31mNameError\u001b[0m: name 'off5th_dups' is not defined"
     ]
    }
   ],
   "source": [
    "off5th_dups['brand_name'].value_counts()"
   ]
  },
  {
   "cell_type": "code",
   "execution_count": null,
   "metadata": {},
   "outputs": [],
   "source": [
    "off5th_raw.loc[:,'percent_off'] "
   ]
  },
  {
   "cell_type": "code",
   "execution_count": null,
   "metadata": {},
   "outputs": [],
   "source": [
    "off5th_raw.loc[(off5th_raw['percent_off']>0) & (~off5th_raw['discount_amount'].isna())].describe()"
   ]
  },
  {
   "cell_type": "code",
   "execution_count": null,
   "metadata": {},
   "outputs": [],
   "source": [
    "off5th_raw['brand_name'].value_counts()"
   ]
  },
  {
   "cell_type": "code",
   "execution_count": 7,
   "metadata": {},
   "outputs": [],
   "source": [
    "off_private_labels = ['Cashmere Saks Fifth Avenue','Saks Fifth Avenue',\n",
    "                      'Saks Fifth Avenue BLACK', 'Saks Fifth Avenue Collection', \n",
    "                      'Saks Fifth Avenue Made In Italy','Saks Fifth Avenue OFF 5TH',\n",
    "                      'Saks Fifth Avenue Travel']"
   ]
  },
  {
   "cell_type": "code",
   "execution_count": null,
   "metadata": {},
   "outputs": [],
   "source": [
    "off5th_raw.loc[off5th_raw['brand_name'].isin(off_private_labels),'private_label'] = 'Private Label'"
   ]
  },
  {
   "cell_type": "code",
   "execution_count": null,
   "metadata": {},
   "outputs": [],
   "source": [
    "off5th_raw.loc[~off5th_raw['brand_name'].isin(off_private_labels),'private_label'] = 'Non-Private'"
   ]
  },
  {
   "cell_type": "code",
   "execution_count": null,
   "metadata": {},
   "outputs": [],
   "source": [
    "off5th_raw['private_label'].value_counts()"
   ]
  },
  {
   "cell_type": "code",
   "execution_count": null,
   "metadata": {},
   "outputs": [],
   "source": [
    "off5th_raw.sample(10)"
   ]
  },
  {
   "cell_type": "code",
   "execution_count": null,
   "metadata": {},
   "outputs": [],
   "source": [
    "off5th_men = off5th.loc[off5th_raw['department']=='men']\n",
    "off5th_women = off5th.loc[off5th_raw['department']!='men']\n",
    "off_unisex_brands = list(set.intersection(set(off5th_men['brand_name'].unique()),set(off5th_women['brand_name'].unique())))"
   ]
  },
  {
   "cell_type": "code",
   "execution_count": null,
   "metadata": {},
   "outputs": [],
   "source": [
    "off5th_uni = off5th_raw.loc[off5th_raw['brand_name'].map(lambda b: b in off_unisex_brands)]\n",
    "off5th_men = off5th_raw.loc[(saks['department']=='men') & (saks['brand_name'].map(lambda b: b not in unisex_brands))]\n",
    "off5th_women = off5th_raw.loc[(saks['department']!='men') & (saks['brand_name'].map(lambda b: b not in unisex_brands))]\n",
    "\n",
    "men_brand_price = saks_men.groupby('brand_name').mean()[['original_price']].sort_values(by='original_price')\n",
    "women_brand_price = saks_women.groupby('brand_name').mean()[['original_price']].sort_values(by='original_price')\n",
    "uni_brand_price = saks_uni.groupby('brand_name').mean()[['original_price']].sort_values(by='original_price')"
   ]
  },
  {
   "cell_type": "code",
   "execution_count": 8,
   "metadata": {},
   "outputs": [
    {
     "ename": "NameError",
     "evalue": "name 'men_brand_price' is not defined",
     "output_type": "error",
     "traceback": [
      "\u001b[1;31m---------------------------------------------------------------------------\u001b[0m",
      "\u001b[1;31mNameError\u001b[0m                                 Traceback (most recent call last)",
      "\u001b[1;32m<ipython-input-8-18a96f76bc96>\u001b[0m in \u001b[0;36m<module>\u001b[1;34m\u001b[0m\n\u001b[1;32m----> 1\u001b[1;33m \u001b[0mmen_brand_price\u001b[0m\u001b[1;33m.\u001b[0m\u001b[0mdescribe\u001b[0m\u001b[1;33m(\u001b[0m\u001b[1;33m)\u001b[0m\u001b[1;33m\u001b[0m\u001b[1;33m\u001b[0m\u001b[0m\n\u001b[0m",
      "\u001b[1;31mNameError\u001b[0m: name 'men_brand_price' is not defined"
     ]
    }
   ],
   "source": [
    "men_brand_price.describe()"
   ]
  },
  {
   "cell_type": "code",
   "execution_count": null,
   "metadata": {},
   "outputs": [],
   "source": [
    "men_brand_price.loc[men_brand_price['original_price']<=186,'brand_positioning'] = 'Trendy'\n",
    "men_brand_price.loc[(men_brand_price['original_price']>186) & (men_brand_price['original_price']<485),'brand_positioning'] = 'Contemporary'\n",
    "men_brand_price.loc[men_brand_price['original_price']>=485,'brand_positioning'] = 'Luxury'"
   ]
  },
  {
   "cell_type": "code",
   "execution_count": null,
   "metadata": {},
   "outputs": [],
   "source": [
    "women_brand_price.describe()"
   ]
  },
  {
   "cell_type": "code",
   "execution_count": null,
   "metadata": {},
   "outputs": [],
   "source": [
    "women_brand_price.loc[women_brand_price['original_price']<=383,'brand_positioning'] = 'Trendy'\n",
    "women_brand_price.loc[(women_brand_price['original_price']>383) & (women_brand_price['original_price']<1644),'brand_positioning'] = 'Contemporary'\n",
    "women_brand_price.loc[women_brand_price['original_price']>=1644,'brand_positioning'] = 'Luxury'"
   ]
  },
  {
   "cell_type": "code",
   "execution_count": null,
   "metadata": {},
   "outputs": [],
   "source": [
    "uni_brand_price.describe()"
   ]
  },
  {
   "cell_type": "code",
   "execution_count": null,
   "metadata": {},
   "outputs": [],
   "source": [
    "uni_brand_price.loc[uni_brand_price['original_price']<=322,'brand_positioning'] = 'Trendy'\n",
    "uni_brand_price.loc[(uni_brand_price['original_price']>322) & (uni_brand_price['original_price']<925),'brand_positioning'] = 'Contemporary'\n",
    "uni_brand_price.loc[uni_brand_price['original_price']>=925,'brand_positioning'] = 'Luxury'"
   ]
  },
  {
   "cell_type": "code",
   "execution_count": null,
   "metadata": {},
   "outputs": [],
   "source": [
    "uni_brand_price"
   ]
  },
  {
   "cell_type": "code",
   "execution_count": null,
   "metadata": {},
   "outputs": [],
   "source": [
    "uni_brand_price.loc['Giorgio Armani','brand_positioning'] = 'Luxury'"
   ]
  },
  {
   "cell_type": "code",
   "execution_count": null,
   "metadata": {},
   "outputs": [],
   "source": [
    "saks_men = pd.merge(saks, men_brand_price.reset_index(), on='brand_name')\n",
    "saks_women = pd.merge(saks, women_brand_price.reset_index(), on='brand_name')\n",
    "saks_uni = pd.merge(saks, uni_brand_price.reset_index(), on='brand_name')"
   ]
  },
  {
   "cell_type": "code",
   "execution_count": null,
   "metadata": {},
   "outputs": [],
   "source": [
    "saks_full = pd.concat([saks_men,saks_women,saks_uni],ignore_index=True)"
   ]
  },
  {
   "cell_type": "code",
   "execution_count": null,
   "metadata": {},
   "outputs": [],
   "source": [
    "saks_full.columns"
   ]
  },
  {
   "cell_type": "code",
   "execution_count": null,
   "metadata": {},
   "outputs": [],
   "source": [
    "saks_full = saks_full.rename(columns={'original_price_y':'brand_mean','original_price_x':'original_price'})"
   ]
  },
  {
   "cell_type": "code",
   "execution_count": null,
   "metadata": {},
   "outputs": [],
   "source": [
    "saks_full.head()"
   ]
  },
  {
   "cell_type": "code",
   "execution_count": null,
   "metadata": {},
   "outputs": [],
   "source": [
    "saks_full['brand_positioning'].value_counts()"
   ]
  },
  {
   "cell_type": "code",
   "execution_count": null,
   "metadata": {},
   "outputs": [],
   "source": [
    "for feature in ['original_price','discount_price','percent_off','order']:\n",
    "    print(saks_full.groupby('brand_positioning').agg(['mean','std','min','max'])[[feature]])"
   ]
  },
  {
   "cell_type": "code",
   "execution_count": null,
   "metadata": {},
   "outputs": [],
   "source": [
    "for feature in ['original_price','discount_price','percent_off']:\n",
    "    print(saks_full.groupby('category').agg(['mean','std','min','max'])[[feature]])"
   ]
  },
  {
   "cell_type": "code",
   "execution_count": null,
   "metadata": {},
   "outputs": [],
   "source": [
    "saks_full.groupby(['category','brand_positioning']).agg(['count','mean','std','min','max'])[['original_price']]"
   ]
  },
  {
   "cell_type": "code",
   "execution_count": null,
   "metadata": {},
   "outputs": [],
   "source": [
    "saks_full.groupby(['category','brand_positioning']).agg(['count','mean','std','min','max'])[['discount_price']]"
   ]
  },
  {
   "cell_type": "code",
   "execution_count": null,
   "metadata": {},
   "outputs": [],
   "source": [
    "saks_full.groupby(['category','brand_positioning']).agg(['count','mean','std','min','max'])[['percent_off']]"
   ]
  },
  {
   "cell_type": "code",
   "execution_count": null,
   "metadata": {},
   "outputs": [],
   "source": [
    "import plotly\n",
    "plotly.offline.init_notebook_mode(connected=True)"
   ]
  },
  {
   "cell_type": "code",
   "execution_count": null,
   "metadata": {},
   "outputs": [],
   "source": [
    "import plotly.figure_factory as ff\n",
    "\n",
    "contemporary = saks_full.loc[saks_full['brand_positioning']=='Contemporary']['original_price']\n",
    "trendy = saks_full.loc[saks_full['brand_positioning']=='Trendy']['original_price']\n",
    "luxury = saks_full.loc[saks_full['brand_positioning']=='Luxury']['original_price']\n",
    "\n",
    "hist_data = [trendy, contemporary, luxury]\n",
    "group_labels = ['Trendy', 'Contemporary', 'Luxury']\n",
    "colors = ['rgb(25, 43, 87)', 'rgb(240, 188, 84)', 'rgb(166, 164, 161)']\n",
    "\n",
    "fig = ff.create_distplot(hist_data, group_labels, bin_size=75, colors= colors)\n",
    "fig.update_layout(title_text='Items Original Price Distribution On Saks.com By Brand Type',plot_bgcolor='rgb(256, 256, 256)')\n",
    "fig.update_xaxes(title_text = \"Price(USD)\")\n",
    "fig.update_yaxes(showgrid=True, gridwidth=0.5, gridcolor='rgb(230, 230, 230)')\n",
    "\n",
    "fig.show()"
   ]
  },
  {
   "cell_type": "code",
   "execution_count": null,
   "metadata": {},
   "outputs": [],
   "source": [
    "import plotly.express as px\n",
    "colors = ['rgb(25, 43, 87)', 'rgb(201, 161, 91)', 'rgb(166, 164, 161)']\n",
    "fig = px.box(saks_full, x=\"brand_positioning\", y=\"original_price\", points=False, \n",
    "             color_discrete_sequence = ['rgb(25, 43, 87)','rgb(240, 188, 84)', 'rgb(166, 164, 161)'],\n",
    "             color_discrete_map = {\"brand_positioning\": [\"Trendy\", \"Contemporary\", \"Luxury\"]})\n",
    "#              color_discrete_map={'Trendy':'rgb(25, 43, 87)',\n",
    "#                                  'Contemporary':'rgb(201, 161, 91)',\n",
    "#                                  'Luxury':'rgb(166, 164, 161)'\n",
    "#                                  })\n",
    "\n",
    "fig.update_layout(title_text='Price By Brand Type',plot_bgcolor='rgb(256, 256, 256)')\n",
    "fig.update_xaxes(title_text = \"\")\n",
    "# fig.update_yaxes(showgrid=True, gridwidth=0.5, gridcolor='rgb(230, 230, 230)')\n",
    "fig.show()"
   ]
  },
  {
   "cell_type": "code",
   "execution_count": null,
   "metadata": {},
   "outputs": [],
   "source": [
    "import plotly.figure_factory as ff\n",
    "\n",
    "contemporary = saks_full.loc[saks_full['brand_positioning']=='Contemporary']['discount_price']\n",
    "trendy = saks_full.loc[saks_full['brand_positioning']=='Trendy']['discount_price']\n",
    "luxury = saks_full.loc[saks_full['brand_positioning']=='Luxury']['discount_price']\n",
    "\n",
    "hist_data = [trendy, contemporary, luxury]\n",
    "group_labels = ['Trendy', 'Contemporary', 'Luxury']\n",
    "colors = ['rgb(25, 43, 87)', 'rgb(240, 188, 84)', 'rgb(166, 164, 161)']\n",
    "\n",
    "fig = ff.create_distplot(hist_data, group_labels, bin_size=30, colors= colors)\n",
    "fig.update_layout(title_text='Items Discount Price Distribution On Saks.com By Brand Type',plot_bgcolor='rgb(256, 256, 256)')\n",
    "fig.update_xaxes(title_text = \"Price(USD)\") \n",
    "fig.update_yaxes(showgrid=True, gridwidth=0.5, gridcolor='rgb(230, 230, 230)')\n",
    "\n",
    "fig.show()"
   ]
  },
  {
   "cell_type": "code",
   "execution_count": null,
   "metadata": {},
   "outputs": [],
   "source": [
    "colors = ['rgb(25, 43, 87)', 'rgb(201, 161, 91)', 'rgb(166, 164, 161)']\n",
    "fig = px.box(saks_full, x=\"brand_positioning\", y=\"discount_price\", points='outliers', \n",
    "             color_discrete_sequence = ['rgb(25, 43, 87)','rgb(240, 188, 84)', 'rgb(166, 164, 161)'],\n",
    "             color_discrete_map = {\"brand_positioning\": [\"Trendy\", \"Contemporary\", \"Luxury\"]})\n",
    "#              color_discrete_map={'Trendy':'rgb(25, 43, 87)',\n",
    "#                                  'Contemporary':'rgb(201, 161, 91)',\n",
    "#                                  'Luxury':'rgb(166, 164, 161)'\n",
    "#                                  })\n",
    "\n",
    "fig.update_layout(title_text='Price By Brand Type',plot_bgcolor='rgb(256, 256, 256)')\n",
    "fig.update_xaxes(title_text = \"\")\n",
    "fig.update_yaxes(showgrid=True, gridwidth=0.5, gridcolor='rgb(230, 230, 230)')\n",
    "fig.show()"
   ]
  },
  {
   "cell_type": "code",
   "execution_count": null,
   "metadata": {},
   "outputs": [],
   "source": [
    "import plotly.express as px\n",
    "\n",
    "fig = px.parallel_categories(saks_full.iloc[:,1:], color=\"percent_off\", color_continuous_scale=px.colors.sequential.Cividis)\n",
    "fig.show()"
   ]
  },
  {
   "cell_type": "code",
   "execution_count": null,
   "metadata": {},
   "outputs": [],
   "source": [
    "import plotly.express as px\n",
    "\n",
    "fig = px.scatter(saks_full, x=\"original_price\", y=\"percent_off\", color=\"brand_positioning\",\n",
    "                 hover_data=['brand_name'], \n",
    "                 color_discrete_sequence = ['rgb(25, 43, 87)','rgb(240, 188, 84)', 'rgb(166, 164, 161)'],\n",
    "                 color_discrete_map = {\"brand_positioning\": [\"Trendy\", \"Contemporary\", \"Luxury\"]})\n",
    "fig.update_layout(title_text=\"Scatter Plot for Original Price and Discount Percent\",plot_bgcolor='rgb(256, 256, 256)')\n",
    "fig.update_yaxes(title_text = 'Discount Percent',showgrid=True, gridwidth=0.5, gridcolor='rgb(230, 230, 230)')\n",
    "fig.update_xaxes(title_text = \"Price(USD)\") \n",
    "\n",
    "fig.show()"
   ]
  },
  {
   "cell_type": "code",
   "execution_count": null,
   "metadata": {},
   "outputs": [],
   "source": [
    "saks_full['brand_positioning'].value_counts()"
   ]
  },
  {
   "cell_type": "code",
   "execution_count": null,
   "metadata": {},
   "outputs": [],
   "source": [
    "import plotly.graph_objects as go\n",
    "\n",
    "labels = ['Trendy','Contemporary','Luxury']\n",
    "values = [856, 2351, 782]\n",
    "colors = ['rgb(25, 43, 87)','rgb(240, 188, 84)','rgb(220, 220, 220)']\n",
    "fig = go.Figure(data=[go.Pie(labels=labels, values=values)])\n",
    "fig.update_traces(hoverinfo='label+value', textinfo='percent',\n",
    "                  marker=dict(colors=colors))\n",
    "fig.show()"
   ]
  },
  {
   "cell_type": "code",
   "execution_count": null,
   "metadata": {},
   "outputs": [],
   "source": [
    "saks_full['private_label'].value_counts()"
   ]
  },
  {
   "cell_type": "code",
   "execution_count": null,
   "metadata": {},
   "outputs": [],
   "source": [
    "import plotly.graph_objects as go\n",
    "\n",
    "labels = ['Private Label','Non-Private']\n",
    "values = [89, 3900]\n",
    "colors = ['rgb(25, 43, 87)','rgb(220, 220, 220)'] #'rgb(201, 161, 91)',\n",
    "fig = go.Figure(data=[go.Pie(labels=labels, values=values)])\n",
    "fig.update_traces(hoverinfo='label+value', textinfo='percent',\n",
    "                  marker=dict(colors=colors))\n",
    "fig.show()"
   ]
  },
  {
   "cell_type": "code",
   "execution_count": null,
   "metadata": {},
   "outputs": [],
   "source": []
  },
  {
   "cell_type": "code",
   "execution_count": null,
   "metadata": {},
   "outputs": [],
   "source": []
  },
  {
   "cell_type": "code",
   "execution_count": null,
   "metadata": {},
   "outputs": [],
   "source": []
  },
  {
   "cell_type": "code",
   "execution_count": null,
   "metadata": {},
   "outputs": [],
   "source": []
  }
 ],
 "metadata": {
  "kernelspec": {
   "display_name": "Python 3",
   "language": "python",
   "name": "python3"
  },
  "language_info": {
   "codemirror_mode": {
    "name": "ipython",
    "version": 3
   },
   "file_extension": ".py",
   "mimetype": "text/x-python",
   "name": "python",
   "nbconvert_exporter": "python",
   "pygments_lexer": "ipython3",
   "version": "3.8.3"
  }
 },
 "nbformat": 4,
 "nbformat_minor": 4
}
