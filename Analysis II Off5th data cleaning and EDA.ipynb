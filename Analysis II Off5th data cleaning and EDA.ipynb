{
 "cells": [
  {
   "cell_type": "code",
   "execution_count": null,
   "metadata": {},
   "outputs": [],
   "source": [
    "import numpy as np\n",
    "import pandas as pd\n",
    "import math"
   ]
  },
  {
   "cell_type": "markdown",
   "metadata": {},
   "source": [
    "# Off5th data cleaning"
   ]
  },
  {
   "cell_type": "code",
   "execution_count": null,
   "metadata": {},
   "outputs": [],
   "source": [
    "off5th_raw = pd.read_csv('off5th.csv')"
   ]
  },
  {
   "cell_type": "code",
   "execution_count": null,
   "metadata": {},
   "outputs": [],
   "source": [
    "off5th_raw.head()"
   ]
  },
  {
   "cell_type": "code",
   "execution_count": null,
   "metadata": {},
   "outputs": [],
   "source": [
    "off5th_raw['category'].value_counts()"
   ]
  },
  {
   "cell_type": "code",
   "execution_count": null,
   "metadata": {},
   "outputs": [],
   "source": [
    "off5th_raw.loc[off5th_raw['category']=='dress-shirts','order'] = (range(1,np.sum(off5th_raw['category']=='dress-shirts')+1))\n",
    "off5th_raw.loc[off5th_raw['category']=='dresses','order'] = (range(1,np.sum(off5th_raw['category']=='dresses')+1))\n",
    "off5th_raw.loc[off5th_raw['category']=='casual-button-down-shirts','order'] = (range(1,np.sum(off5th_raw['category']=='casual-button-down-shirts')+1))                                                       \n",
    "off5th_raw.loc[:,'order'] = off5th_raw['order'].astype(int)"
   ]
  },
  {
   "cell_type": "code",
   "execution_count": null,
   "metadata": {},
   "outputs": [],
   "source": [
    "np.sum(off5th_raw.isnull())"
   ]
  },
  {
   "cell_type": "code",
   "execution_count": null,
   "metadata": {},
   "outputs": [],
   "source": [
    "off5th_raw.shape"
   ]
  },
  {
   "cell_type": "code",
   "execution_count": null,
   "metadata": {},
   "outputs": [],
   "source": [
    "off5th_raw.loc[off5th_raw['original_price']<off5th_raw['discount_price'],'original_price'] = off5th_raw.loc[off5th_raw['original_price']<off5th_raw['discount_price'],'discount_price']"
   ]
  },
  {
   "cell_type": "markdown",
   "metadata": {},
   "source": [
    "## Add percent_off column"
   ]
  },
  {
   "cell_type": "code",
   "execution_count": null,
   "metadata": {},
   "outputs": [],
   "source": [
    "off5th_raw.loc[:,'percent_off'] = round((1-off5th_raw['discount_price']/off5th_raw['original_price'])*100,2)"
   ]
  },
  {
   "cell_type": "code",
   "execution_count": null,
   "metadata": {},
   "outputs": [],
   "source": [
    "off5th_dups = off5th_raw.loc[off5th_raw.duplicated(['brand_name','product_name','original_price','discount_price'])]"
   ]
  },
  {
   "cell_type": "code",
   "execution_count": null,
   "metadata": {},
   "outputs": [],
   "source": [
    "off5th_dups['brand_name']"
   ]
  },
  {
   "cell_type": "code",
   "execution_count": null,
   "metadata": {},
   "outputs": [],
   "source": [
    "off5th_raw[['discount_amount','percent_off']].describe()"
   ]
  },
  {
   "cell_type": "markdown",
   "metadata": {},
   "source": [
    "### Discount amount marked on off5th.com is about 1% lower than calculated percentage off on displayed price. Possibly due to on page rounding methods."
   ]
  },
  {
   "cell_type": "code",
   "execution_count": null,
   "metadata": {},
   "outputs": [],
   "source": [
    "off5th_raw.loc[(off5th_raw['percent_off']>0)][['discount_amount','percent_off']].describe()"
   ]
  },
  {
   "cell_type": "code",
   "execution_count": null,
   "metadata": {},
   "outputs": [],
   "source": [
    "off5th_raw['brand_name'].value_counts()"
   ]
  },
  {
   "cell_type": "markdown",
   "metadata": {},
   "source": [
    "## Add private_label column"
   ]
  },
  {
   "cell_type": "code",
   "execution_count": null,
   "metadata": {},
   "outputs": [],
   "source": [
    "off_private_labels = ['Cashmere Saks Fifth Avenue','Saks Fifth Avenue',\n",
    "                      'Saks Fifth Avenue BLACK', 'Saks Fifth Avenue Collection', \n",
    "                      'Saks Fifth Avenue Made In Italy','Saks Fifth Avenue OFF 5TH',\n",
    "                      'Saks Fifth Avenue Travel',\n",
    "                      'Pure Navy']"
   ]
  },
  {
   "cell_type": "code",
   "execution_count": null,
   "metadata": {},
   "outputs": [],
   "source": [
    "off5th_raw.loc[off5th_raw['brand_name'].isin(off_private_labels),'private_label'] = 'Private Label'"
   ]
  },
  {
   "cell_type": "code",
   "execution_count": null,
   "metadata": {},
   "outputs": [],
   "source": [
    "off5th_raw.loc[~off5th_raw['brand_name'].isin(off_private_labels),'private_label'] = 'Non-Private'"
   ]
  },
  {
   "cell_type": "code",
   "execution_count": null,
   "metadata": {},
   "outputs": [],
   "source": [
    "off5th_raw['private_label'].value_counts()"
   ]
  },
  {
   "cell_type": "code",
   "execution_count": null,
   "metadata": {},
   "outputs": [],
   "source": [
    "off5th_raw.sample(10)"
   ]
  },
  {
   "cell_type": "markdown",
   "metadata": {},
   "source": [
    "## Add 'brand_positioning' column\n",
    "### Same brands will directly use the result from Saks.com, other brands will be selected again by the same standard"
   ]
  },
  {
   "cell_type": "code",
   "execution_count": null,
   "metadata": {},
   "outputs": [],
   "source": [
    "saks = pd.read_csv('saks_processed.csv')"
   ]
  },
  {
   "cell_type": "code",
   "execution_count": null,
   "metadata": {
    "scrolled": true
   },
   "outputs": [],
   "source": [
    "saks.head()"
   ]
  },
  {
   "cell_type": "code",
   "execution_count": null,
   "metadata": {},
   "outputs": [],
   "source": [
    "saks_brand = saks.loc[~saks[['brand_name','brand_mean','brand_positioning']].duplicated()][['brand_name','brand_mean','brand_positioning']]\n",
    "saks_brand"
   ]
  },
  {
   "cell_type": "code",
   "execution_count": null,
   "metadata": {},
   "outputs": [],
   "source": [
    "offth_partial = pd.merge(off5th_raw, saks_brand,how='left',on='brand_name')"
   ]
  },
  {
   "cell_type": "code",
   "execution_count": null,
   "metadata": {},
   "outputs": [],
   "source": [
    "off5th_men = offth_partial.loc[(offth_partial['department']=='men') & (offth_partial['brand_positioning'].isna())]\n",
    "off5th_women = offth_partial.loc[(offth_partial['department']=='women') & (offth_partial['brand_positioning'].isna())]\n",
    "unisex_brands = list(set.intersection(set(off5th_men['brand_name'].unique()),\n",
    "                                      set(off5th_women['brand_name'].unique())))"
   ]
  },
  {
   "cell_type": "code",
   "execution_count": null,
   "metadata": {},
   "outputs": [],
   "source": [
    "off5th_men.head()"
   ]
  },
  {
   "cell_type": "code",
   "execution_count": null,
   "metadata": {},
   "outputs": [],
   "source": [
    "off5th_uni = offth_partial.loc[offth_partial['brand_name'].isin(unisex_brands)]\n",
    "off5th_men = offth_partial.loc[(offth_partial['department']=='men') \n",
    "                               & (~offth_partial['brand_name'].isin(unisex_brands)) \n",
    "                               & (offth_partial['brand_positioning'].isna())]\n",
    "off5th_women = offth_partial.loc[(offth_partial['department']=='women') \n",
    "                              & (~offth_partial['brand_name'].isin(unisex_brands)) \n",
    "                              & (offth_partial['brand_positioning'].isna())]"
   ]
  },
  {
   "cell_type": "code",
   "execution_count": null,
   "metadata": {},
   "outputs": [],
   "source": [
    "off5th_uni"
   ]
  },
  {
   "cell_type": "code",
   "execution_count": null,
   "metadata": {},
   "outputs": [],
   "source": [
    "men_brand_price = off5th_men.groupby('brand_name').mean()[['original_price']].sort_values(by='original_price')\n",
    "women_brand_price = off5th_women.groupby('brand_name').mean()[['original_price']].sort_values(by='original_price')\n",
    "uni_brand_price = off5th_uni.groupby('brand_name').mean()[['original_price']].sort_values(by='original_price')"
   ]
  },
  {
   "cell_type": "code",
   "execution_count": null,
   "metadata": {},
   "outputs": [],
   "source": [
    "men_brand_price.reset_index()"
   ]
  },
  {
   "cell_type": "code",
   "execution_count": null,
   "metadata": {},
   "outputs": [],
   "source": [
    "men_brand_price.loc[men_brand_price['original_price']<=150,'brand_positioning'] = 'Trendy'\n",
    "men_brand_price.loc[(men_brand_price['original_price']>150) & (men_brand_price['original_price']<400),'brand_positioning'] = 'Contemporary'\n",
    "men_brand_price.loc[men_brand_price['original_price']>=400,'brand_positioning'] = 'Luxury'"
   ]
  },
  {
   "cell_type": "code",
   "execution_count": null,
   "metadata": {},
   "outputs": [],
   "source": [
    "men_brand_price[men_brand_price['brand_positioning'] == 'Luxury']"
   ]
  },
  {
   "cell_type": "code",
   "execution_count": null,
   "metadata": {},
   "outputs": [],
   "source": [
    "women_brand_price"
   ]
  },
  {
   "cell_type": "code",
   "execution_count": null,
   "metadata": {},
   "outputs": [],
   "source": [
    "women_brand_price.loc[women_brand_price['original_price']<=200,'brand_positioning'] = 'Trendy'\n",
    "women_brand_price.loc[(women_brand_price['original_price']>200) & (women_brand_price['original_price']<1000),'brand_positioning'] = 'Contemporary'\n",
    "women_brand_price.loc[women_brand_price['original_price']>=1000,'brand_positioning'] = 'Luxury'"
   ]
  },
  {
   "cell_type": "code",
   "execution_count": null,
   "metadata": {},
   "outputs": [],
   "source": [
    "women_brand_price['brand_positioning'].value_counts()"
   ]
  },
  {
   "cell_type": "code",
   "execution_count": null,
   "metadata": {},
   "outputs": [],
   "source": [
    "uni_brand_price.describe()"
   ]
  },
  {
   "cell_type": "code",
   "execution_count": null,
   "metadata": {},
   "outputs": [],
   "source": [
    "uni_brand_price.loc[uni_brand_price['original_price']<=320,'brand_positioning'] = 'Trendy'\n",
    "uni_brand_price.loc[(uni_brand_price['original_price']>320) & (uni_brand_price['original_price']<800),'brand_positioning'] = 'Contemporary'\n",
    "uni_brand_price.loc[uni_brand_price['original_price']>=800,'brand_positioning'] = 'Luxury'"
   ]
  },
  {
   "cell_type": "code",
   "execution_count": null,
   "metadata": {},
   "outputs": [],
   "source": [
    "uni_brand_price"
   ]
  },
  {
   "cell_type": "code",
   "execution_count": null,
   "metadata": {
    "scrolled": true
   },
   "outputs": [],
   "source": [
    "offth_partial[(offth_partial['brand_name']=='Saks Fifth Avenue')|(offth_partial['brand_name']=='Donna Karan')].sample(5)"
   ]
  },
  {
   "cell_type": "code",
   "execution_count": null,
   "metadata": {},
   "outputs": [],
   "source": [
    "partpart = offth_partial.loc[offth_partial['brand_positioning'].isna()][['website','brand_name','product_name','category','department','original_price','discount_price','discount_amount','order','percent_off','private_label']]\n",
    "partpart.head()\n",
    "saks_part = offth_partial.loc[~offth_partial['brand_positioning'].isna()]\n",
    "saks_part.head()"
   ]
  },
  {
   "cell_type": "code",
   "execution_count": null,
   "metadata": {},
   "outputs": [],
   "source": [
    "off5th_men = pd.merge(partpart, men_brand_price.reset_index(), on='brand_name')\n",
    "off5th_women = pd.merge(partpart, women_brand_price.reset_index(), on='brand_name')\n",
    "off5th_uni = pd.merge(partpart, uni_brand_price.reset_index(), on='brand_name')"
   ]
  },
  {
   "cell_type": "code",
   "execution_count": null,
   "metadata": {},
   "outputs": [],
   "source": [
    "off5th_men.head()"
   ]
  },
  {
   "cell_type": "code",
   "execution_count": null,
   "metadata": {},
   "outputs": [],
   "source": [
    "part_full = pd.concat([off5th_men,off5th_women,off5th_uni],ignore_index=True)"
   ]
  },
  {
   "cell_type": "code",
   "execution_count": null,
   "metadata": {},
   "outputs": [],
   "source": [
    "part_full.sample(10)"
   ]
  },
  {
   "cell_type": "code",
   "execution_count": null,
   "metadata": {},
   "outputs": [],
   "source": [
    "part_full.columns"
   ]
  },
  {
   "cell_type": "code",
   "execution_count": null,
   "metadata": {},
   "outputs": [],
   "source": [
    "part_full = part_full.rename(columns={'original_price_y':'brand_mean','original_price_x':'original_price'})"
   ]
  },
  {
   "cell_type": "code",
   "execution_count": null,
   "metadata": {},
   "outputs": [],
   "source": [
    "off5th_full = pd.concat([saks_part,part_full],ignore_index=True)"
   ]
  },
  {
   "cell_type": "code",
   "execution_count": null,
   "metadata": {},
   "outputs": [],
   "source": [
    "np.sum(off5th_full.isna())"
   ]
  },
  {
   "cell_type": "code",
   "execution_count": null,
   "metadata": {},
   "outputs": [],
   "source": [
    "off5th_full['brand_positioning'].value_counts()"
   ]
  },
  {
   "cell_type": "markdown",
   "metadata": {},
   "source": [
    "## EDA"
   ]
  },
  {
   "cell_type": "code",
   "execution_count": null,
   "metadata": {},
   "outputs": [],
   "source": [
    "for feature in ['original_price','discount_price','percent_off','order']:\n",
    "    print(off5th_full.groupby('brand_positioning').agg(['mean','std','min','max'])[[feature]])"
   ]
  },
  {
   "cell_type": "code",
   "execution_count": null,
   "metadata": {},
   "outputs": [],
   "source": [
    "for feature in ['original_price','discount_price','percent_off']:\n",
    "    print(off5th_full.groupby('category').agg(['mean','std','min','max'])[[feature]])"
   ]
  },
  {
   "cell_type": "code",
   "execution_count": null,
   "metadata": {},
   "outputs": [],
   "source": [
    "off5th_full.groupby(['category','brand_positioning']).agg(['count','mean','std','min','max'])[['original_price']]"
   ]
  },
  {
   "cell_type": "code",
   "execution_count": null,
   "metadata": {},
   "outputs": [],
   "source": [
    "off5th_full.groupby(['category','brand_positioning']).agg(['count','mean','std','min','max'])[['discount_price']]"
   ]
  },
  {
   "cell_type": "code",
   "execution_count": null,
   "metadata": {},
   "outputs": [],
   "source": [
    "off5th_full.groupby(['category','brand_positioning']).agg(['count','mean','std','min','max'])[['percent_off']]"
   ]
  },
  {
   "cell_type": "markdown",
   "metadata": {},
   "source": [
    "## Visualization"
   ]
  },
  {
   "cell_type": "code",
   "execution_count": null,
   "metadata": {},
   "outputs": [],
   "source": [
    "import plotly\n",
    "plotly.offline.init_notebook_mode(connected=True)"
   ]
  },
  {
   "cell_type": "code",
   "execution_count": null,
   "metadata": {},
   "outputs": [],
   "source": [
    "import plotly.figure_factory as ff\n",
    "\n",
    "contemporary = off5th_full.loc[off5th_full['brand_positioning']=='Contemporary']['original_price']\n",
    "trendy = off5th_full.loc[off5th_full['brand_positioning']=='Trendy']['original_price']\n",
    "luxury = off5th_full.loc[off5th_full['brand_positioning']=='Luxury']['original_price']\n",
    "\n",
    "hist_data = [trendy, contemporary, luxury]\n",
    "group_labels = ['Trendy', 'Contemporary', 'Luxury']\n",
    "colors = ['rgb(25, 43, 87)', 'rgb(240, 188, 84)', 'rgb(166, 164, 161)']\n",
    "\n",
    "fig = ff.create_distplot(hist_data, group_labels, bin_size=75, colors= colors)\n",
    "fig.update_layout(title_text='Items Original Price Distribution On Off5th.com By Brand Type',plot_bgcolor='rgb(256, 256, 256)')\n",
    "fig.update_xaxes(title_text = \"Price(USD)\")\n",
    "fig.update_yaxes(showgrid=True, gridwidth=0.5, gridcolor='rgb(230, 230, 230)')\n",
    "\n",
    "fig.show()"
   ]
  },
  {
   "cell_type": "code",
   "execution_count": null,
   "metadata": {},
   "outputs": [],
   "source": [
    "import plotly.express as px\n",
    "colors = ['rgb(25, 43, 87)', 'rgb(201, 161, 91)', 'rgb(166, 164, 161)']\n",
    "fig = px.box(off5th_full, x=\"brand_positioning\", y=\"original_price\", points=False, \n",
    "             color_discrete_sequence = ['rgb(25, 43, 87)','rgb(240, 188, 84)', 'rgb(166, 164, 161)'],\n",
    "             color_discrete_map = {\"brand_positioning\": [\"Trendy\", \"Contemporary\", \"Luxury\"]})\n",
    "#              color_discrete_map={'Trendy':'rgb(25, 43, 87)',\n",
    "#                                  'Contemporary':'rgb(201, 161, 91)',\n",
    "#                                  'Luxury':'rgb(166, 164, 161)'\n",
    "#                                  })\n",
    "\n",
    "fig.update_layout(title_text='Price By Brand Type',plot_bgcolor='rgb(256, 256, 256)')\n",
    "fig.update_xaxes(title_text = \"\")\n",
    "# fig.update_yaxes(showgrid=True, gridwidth=0.5, gridcolor='rgb(230, 230, 230)')\n",
    "fig.show()"
   ]
  },
  {
   "cell_type": "code",
   "execution_count": null,
   "metadata": {},
   "outputs": [],
   "source": [
    "import plotly.figure_factory as ff\n",
    "\n",
    "contemporary = off5th_full.loc[off5th_full['brand_positioning']=='Contemporary']['discount_price']\n",
    "trendy = off5th_full.loc[off5th_full['brand_positioning']=='Trendy']['discount_price']\n",
    "luxury = off5th_full.loc[off5th_full['brand_positioning']=='Luxury']['discount_price']\n",
    "\n",
    "hist_data = [trendy, contemporary, luxury]\n",
    "group_labels = ['Trendy', 'Contemporary', 'Luxury']\n",
    "colors = ['rgb(25, 43, 87)', 'rgb(240, 188, 84)', 'rgb(166, 164, 161)']\n",
    "\n",
    "fig = ff.create_distplot(hist_data, group_labels, bin_size=20, colors= colors)\n",
    "fig.update_layout(title_text='Items Discount Price Distribution On Off5th.com By Brand Type',plot_bgcolor='rgb(256, 256, 256)')\n",
    "fig.update_xaxes(title_text = \"Price(USD)\") \n",
    "fig.update_yaxes(showgrid=True, gridwidth=0.5, gridcolor='rgb(230, 230, 230)')\n",
    "\n",
    "fig.show()"
   ]
  },
  {
   "cell_type": "code",
   "execution_count": null,
   "metadata": {},
   "outputs": [],
   "source": [
    "colors = ['rgb(25, 43, 87)', 'rgb(201, 161, 91)', 'rgb(166, 164, 161)']\n",
    "fig = px.box(off5th_full, x=\"brand_positioning\", y=\"discount_price\", points='outliers', \n",
    "             color_discrete_sequence = ['rgb(25, 43, 87)','rgb(240, 188, 84)', 'rgb(166, 164, 161)'],\n",
    "             color_discrete_map = {\"brand_positioning\": [\"Trendy\", \"Contemporary\", \"Luxury\"]})\n",
    "#              color_discrete_map={'Trendy':'rgb(25, 43, 87)',\n",
    "#                                  'Contemporary':'rgb(201, 161, 91)',\n",
    "#                                  'Luxury':'rgb(166, 164, 161)'\n",
    "#                                  })\n",
    "\n",
    "fig.update_layout(title_text='Price By Brand Type',plot_bgcolor='rgb(256, 256, 256)')\n",
    "fig.update_xaxes(title_text = \"\")\n",
    "fig.update_yaxes(showgrid=True, gridwidth=0.5, gridcolor='rgb(230, 230, 230)')\n",
    "fig.show()"
   ]
  },
  {
   "cell_type": "code",
   "execution_count": null,
   "metadata": {},
   "outputs": [],
   "source": [
    "off5th_melt = pd.melt(off5th_full,id_vars=['brand_name','product_name','category','brand_positioning','private_label'],value_vars=['original_price','discount_price','percent_off'])"
   ]
  },
  {
   "cell_type": "code",
   "execution_count": null,
   "metadata": {},
   "outputs": [],
   "source": [
    "import seaborn as sns\n",
    "\n",
    "sns.set_style(\"whitegrid\")\n",
    "\n",
    "ax = sns.boxplot(x=\"brand_positioning\", y=\"value\", hue=\"variable\", \n",
    "                 data=off5th_melt.loc[off5th_melt['variable']!='percent_off'], \n",
    "                 palette=['#192b57','#a6a4a1'])\n",
    "ax.set(ylim=(0, 4000))\n",
    "ax.set(ylabel='',xlabel='',title = 'Clothing Average Price on Off5th.com By Brand Type')"
   ]
  },
  {
   "cell_type": "code",
   "execution_count": null,
   "metadata": {},
   "outputs": [],
   "source": [
    "fig = ax.get_figure()\n",
    "fig.savefig(\"avg_off5_price.png\")\n",
    "fig.savefig(\"avg_off5_price.pdf\")"
   ]
  },
  {
   "cell_type": "code",
   "execution_count": null,
   "metadata": {},
   "outputs": [],
   "source": [
    "import plotly.express as px\n",
    "\n",
    "fig = px.parallel_categories(off5th_full.iloc[:,1:], color=\"percent_off\", color_continuous_scale=px.colors.sequential.Cividis)\n",
    "fig.show()"
   ]
  },
  {
   "cell_type": "code",
   "execution_count": null,
   "metadata": {},
   "outputs": [],
   "source": [
    "import plotly.express as px\n",
    "\n",
    "fig = px.scatter(off5th_full, x=\"original_price\", y=\"percent_off\", color=\"brand_positioning\",\n",
    "                 hover_data=['brand_name'], \n",
    "                 color_discrete_sequence = ['rgb(25, 43, 87)','rgb(240, 188, 84)', 'rgb(166, 164, 161)'],\n",
    "                 color_discrete_map = {\"brand_positioning\": [\"Trendy\", \"Contemporary\", \"Luxury\"]})\n",
    "fig.update_layout(title_text=\"Scatter Plot for Original Price and Discount Percent\",plot_bgcolor='rgb(256, 256, 256)')\n",
    "fig.update_yaxes(title_text = 'Discount Percent',showgrid=True, gridwidth=0.5, gridcolor='rgb(230, 230, 230)')\n",
    "fig.update_xaxes(title_text = \"Price(USD)\") \n",
    "\n",
    "fig.show()"
   ]
  },
  {
   "cell_type": "code",
   "execution_count": null,
   "metadata": {},
   "outputs": [],
   "source": [
    "off5th_full['brand_positioning'].value_counts()"
   ]
  },
  {
   "cell_type": "code",
   "execution_count": null,
   "metadata": {},
   "outputs": [],
   "source": [
    "import plotly.graph_objects as go\n",
    "\n",
    "labels = ['Trendy','Contemporary','Luxury']\n",
    "values = [1655, 2779, 677]\n",
    "colors = ['rgb(25, 43, 87)','rgb(240, 188, 84)','rgb(220, 220, 220)']\n",
    "fig = go.Figure(data=[go.Pie(labels=labels, values=values)])\n",
    "fig.update_traces(hoverinfo='label+value', textinfo='percent',\n",
    "                  marker=dict(colors=colors))\n",
    "fig.show()"
   ]
  },
  {
   "cell_type": "code",
   "execution_count": null,
   "metadata": {},
   "outputs": [],
   "source": [
    "off5th_full['private_label'].value_counts()"
   ]
  },
  {
   "cell_type": "code",
   "execution_count": null,
   "metadata": {},
   "outputs": [],
   "source": [
    "import plotly.graph_objects as go\n",
    "\n",
    "labels = ['Private Label','Non-Private']\n",
    "values = [352, 4759]\n",
    "colors = ['rgb(25, 43, 87)','rgb(220, 220, 220)'] #'rgb(201, 161, 91)',\n",
    "fig = go.Figure(data=[go.Pie(labels=labels, values=values)])\n",
    "fig.update_traces(hoverinfo='label+value', textinfo='percent',\n",
    "                  marker=dict(colors=colors))\n",
    "fig.show()"
   ]
  },
  {
   "cell_type": "code",
   "execution_count": null,
   "metadata": {},
   "outputs": [],
   "source": [
    "off5th_full['category'].value_counts()"
   ]
  },
  {
   "cell_type": "code",
   "execution_count": null,
   "metadata": {},
   "outputs": [],
   "source": [
    "import plotly.graph_objects as go\n",
    "\n",
    "labels = ['dresses','casual-button-down-shirts','dress-shirts']\n",
    "values = [3863, 632, 616]\n",
    "colors = ['rgb(247, 146, 171)','rgb(173, 245, 100)','rgb(167, 197, 209)']\n",
    "fig = go.Figure(data=[go.Pie(labels=labels, values=values)])\n",
    "fig.update_traces(hoverinfo='label+value', textinfo='percent',\n",
    "                  marker=dict(colors=colors))\n",
    "fig.show()"
   ]
  },
  {
   "cell_type": "code",
   "execution_count": null,
   "metadata": {},
   "outputs": [],
   "source": [
    "colors = ['rgb(247, 146, 171)','rgb(173, 245, 100)','rgb(167, 197, 209)']\n",
    "labels = ['dresses','casual-button-down-shirts']\n",
    "fig = px.box(off5th_full, x=\"category\", y=\"original_price\", points='outliers', \n",
    "             color_discrete_sequence = colors,\n",
    "#              color_discrete_map = {\"category\": labels})\n",
    "             color_discrete_map={'Trendy':'rgb(25, 43, 87)',\n",
    "                                 'Contemporary':'rgb(201, 161, 91)',\n",
    "                                 'Luxury':'rgb(166, 164, 161)'\n",
    "                                 })\n",
    "\n",
    "fig.update_layout(title_text='Price By Category',plot_bgcolor='rgb(256, 256, 256)')\n",
    "fig.update_xaxes(title_text = \"\")\n",
    "fig.update_yaxes(showgrid=True, gridwidth=0.5, gridcolor='rgb(230, 230, 230)')\n",
    "fig.show()"
   ]
  },
  {
   "cell_type": "code",
   "execution_count": null,
   "metadata": {},
   "outputs": [],
   "source": [
    "off5th_full.head()"
   ]
  },
  {
   "cell_type": "code",
   "execution_count": null,
   "metadata": {},
   "outputs": [],
   "source": [
    "off5th_full.to_csv('off5th_processed.csv',index=False)"
   ]
  },
  {
   "cell_type": "code",
   "execution_count": null,
   "metadata": {},
   "outputs": [],
   "source": []
  }
 ],
 "metadata": {
  "kernelspec": {
   "display_name": "Python 3",
   "language": "python",
   "name": "python3"
  },
  "language_info": {
   "codemirror_mode": {
    "name": "ipython",
    "version": 3
   },
   "file_extension": ".py",
   "mimetype": "text/x-python",
   "name": "python",
   "nbconvert_exporter": "python",
   "pygments_lexer": "ipython3",
   "version": "3.8.3"
  }
 },
 "nbformat": 4,
 "nbformat_minor": 4
}
